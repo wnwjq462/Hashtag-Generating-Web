{
 "cells": [
  {
   "cell_type": "code",
   "execution_count": 1,
   "metadata": {},
   "outputs": [],
   "source": [
    "import konlpy\n",
    "import pandas as pd\n",
    "from gensim.models.word2vec import Word2Vec\n",
    "import numpy as np\n",
    "import matplotlib.pyplot as plt"
   ]
  },
  {
   "cell_type": "code",
   "execution_count": 37,
   "metadata": {},
   "outputs": [
    {
     "data": {
      "text/html": [
       "<div>\n",
       "<style scoped>\n",
       "    .dataframe tbody tr th:only-of-type {\n",
       "        vertical-align: middle;\n",
       "    }\n",
       "\n",
       "    .dataframe tbody tr th {\n",
       "        vertical-align: top;\n",
       "    }\n",
       "\n",
       "    .dataframe thead th {\n",
       "        text-align: right;\n",
       "    }\n",
       "</style>\n",
       "<table border=\"1\" class=\"dataframe\">\n",
       "  <thead>\n",
       "    <tr style=\"text-align: right;\">\n",
       "      <th></th>\n",
       "      <th>Unnamed: 0</th>\n",
       "      <th>image_name</th>\n",
       "      <th>image_url</th>\n",
       "      <th>content</th>\n",
       "      <th>location</th>\n",
       "      <th>hashtags</th>\n",
       "    </tr>\n",
       "  </thead>\n",
       "  <tbody>\n",
       "    <tr>\n",
       "      <th>0</th>\n",
       "      <td>0</td>\n",
       "      <td>일상_0.jpg</td>\n",
       "      <td>https://scontent-ssn1-1.cdninstagram.com/v/t51...</td>\n",
       "      <td>날씨 너무 죠타🌸🌼🌸🌼🍃</td>\n",
       "      <td>Gwangju, South Korea</td>\n",
       "      <td>#광주#일상#일상스타그램#데일리룩#데일리#daily#dailylook#소통#소통해요...</td>\n",
       "    </tr>\n",
       "    <tr>\n",
       "      <th>1</th>\n",
       "      <td>1</td>\n",
       "      <td>일상_1.jpg</td>\n",
       "      <td>https://scontent-ssn1-1.cdninstagram.com/v/t51...</td>\n",
       "      <td>날씨 좋은 월요일 맛점💕\\n\\n⠀\\n⠀\\n⠀\\n⠀\\n⠀\\n⠀\\n⠀\\n⠀\\n⠀\\n#월...</td>\n",
       "      <td>슈엘뷰티샵&amp;아카데미</td>\n",
       "      <td>#월요일#출근#뷰티샵#대구토탈뷰티샵#대구속눈썹#대구왁싱#슈엘뷰티#사진맛집#여행#핫플...</td>\n",
       "    </tr>\n",
       "    <tr>\n",
       "      <th>2</th>\n",
       "      <td>2</td>\n",
       "      <td>일상_2.jpg</td>\n",
       "      <td>https://scontent-ssn1-1.cdninstagram.com/v/t51...</td>\n",
       "      <td>곧 5️⃣년 된다는 사실에 놀라고 졸업👩🏻‍🎓이라는 사실에 한번 더 놀라고 .. 🤭</td>\n",
       "      <td>Naive Place</td>\n",
       "      <td>#광주#동명동#양림동#충장로#조대#조대후문#수완지구#상무지구#서울#부산#전주#셀피#...</td>\n",
       "    </tr>\n",
       "    <tr>\n",
       "      <th>3</th>\n",
       "      <td>3</td>\n",
       "      <td>일상_3.jpg</td>\n",
       "      <td>https://scontent-ssn1-1.cdninstagram.com/v/t51...</td>\n",
       "      <td>나 뭐가 달라진 거 같아~~~~??????😁</td>\n",
       "      <td>Jeonju</td>\n",
       "      <td>#맞팔#팔로우#팔로워#셀카#인스타#셀피#일상#데일리#좋아요반사#좋아요#커피#오오티디...</td>\n",
       "    </tr>\n",
       "    <tr>\n",
       "      <th>4</th>\n",
       "      <td>4</td>\n",
       "      <td>일상_4.jpg</td>\n",
       "      <td>https://scontent-ssn1-1.cdninstagram.com/v/t51...</td>\n",
       "      <td>♥\\n\\n요즘 공기 봄 냄새나는거같아서 좋다☺️\\n쌩얼인데 어쩌라고\\n\\n#광주속눈...</td>\n",
       "      <td>매곡동</td>\n",
       "      <td>#광주속눈썹연장#속눈썹연장잘하는곳#뷰티어스#뷰티어스래쉬#속눈썹연장#일상#출근#셀카#...</td>\n",
       "    </tr>\n",
       "    <tr>\n",
       "      <th>5</th>\n",
       "      <td>5</td>\n",
       "      <td>일상_5.jpg</td>\n",
       "      <td>https://scontent-ssn1-1.cdninstagram.com/v/t51...</td>\n",
       "      <td>95 아니고 65 갬성\\n#레트로 #포즈</td>\n",
       "      <td>법기수원지</td>\n",
       "      <td>#레트로#포즈#인스타그램#셀스타그램#여행스타그램#일상#소통#인친#선팔하면맞팔#구시청...</td>\n",
       "    </tr>\n",
       "    <tr>\n",
       "      <th>6</th>\n",
       "      <td>6</td>\n",
       "      <td>일상_6.jpg</td>\n",
       "      <td>https://scontent-ssn1-1.cdninstagram.com/v/t51...</td>\n",
       "      <td>옷 주섬.....\\n.\\n.\\n.\\n.\\n.\\n.\\n.\\n.\\n.\\n.\\n.\\n.\\...</td>\n",
       "      <td>스페이스앤무드 - Space &amp; Mood</td>\n",
       "      <td>#20#서면#예승이#항공과#여행스타그램#스무살#첫줄#첫줄반사#데일리#맞팔환영#운동#...</td>\n",
       "    </tr>\n",
       "    <tr>\n",
       "      <th>7</th>\n",
       "      <td>7</td>\n",
       "      <td>일상_7.jpg</td>\n",
       "      <td>https://scontent-ssn1-1.cdninstagram.com/v/t51...</td>\n",
       "      <td>내 주말 돌려줘..</td>\n",
       "      <td>대천해수욕장</td>\n",
       "      <td>#전주#첫줄#객리단길#좋반#일상#선팔#맞팔#좋아요#셀카#셀피#전주카페#선팔환영#카페...</td>\n",
       "    </tr>\n",
       "    <tr>\n",
       "      <th>8</th>\n",
       "      <td>8</td>\n",
       "      <td>일상_8.jpg</td>\n",
       "      <td>https://scontent-ssn1-1.cdninstagram.com/v/t51...</td>\n",
       "      <td>이 시간까지 늦잠 너무 죠하♥️</td>\n",
       "      <td>NaN</td>\n",
       "      <td>#셀스타그램#얼스타그램#좋반#오오티디#셀카#셀피#데일리#데일리그램#팔로우#좋아요#인...</td>\n",
       "    </tr>\n",
       "    <tr>\n",
       "      <th>9</th>\n",
       "      <td>9</td>\n",
       "      <td>일상_9.jpg</td>\n",
       "      <td>https://scontent-ssn1-1.cdninstagram.com/v/t51...</td>\n",
       "      <td>바람한테 싸맞아따,,그래도 오랜만에 본 바다는 너무너무너무너무 이뻤ㄷ ㅏ🌊\\n.\\n...</td>\n",
       "      <td>Gyungpo Beach, 경포해변</td>\n",
       "      <td>#강릉여행#우정여행#경포해변#바람#때문에#어렵게#건진#사진들#스무살#20#선팔#맞팔...</td>\n",
       "    </tr>\n",
       "  </tbody>\n",
       "</table>\n",
       "</div>"
      ],
      "text/plain": [
       "   Unnamed: 0 image_name                                          image_url  \\\n",
       "0           0   일상_0.jpg  https://scontent-ssn1-1.cdninstagram.com/v/t51...   \n",
       "1           1   일상_1.jpg  https://scontent-ssn1-1.cdninstagram.com/v/t51...   \n",
       "2           2   일상_2.jpg  https://scontent-ssn1-1.cdninstagram.com/v/t51...   \n",
       "3           3   일상_3.jpg  https://scontent-ssn1-1.cdninstagram.com/v/t51...   \n",
       "4           4   일상_4.jpg  https://scontent-ssn1-1.cdninstagram.com/v/t51...   \n",
       "5           5   일상_5.jpg  https://scontent-ssn1-1.cdninstagram.com/v/t51...   \n",
       "6           6   일상_6.jpg  https://scontent-ssn1-1.cdninstagram.com/v/t51...   \n",
       "7           7   일상_7.jpg  https://scontent-ssn1-1.cdninstagram.com/v/t51...   \n",
       "8           8   일상_8.jpg  https://scontent-ssn1-1.cdninstagram.com/v/t51...   \n",
       "9           9   일상_9.jpg  https://scontent-ssn1-1.cdninstagram.com/v/t51...   \n",
       "\n",
       "                                             content                location  \\\n",
       "0                                      날씨 너무 죠타🌸🌼🌸🌼🍃    Gwangju, South Korea   \n",
       "1  날씨 좋은 월요일 맛점💕\\n\\n⠀\\n⠀\\n⠀\\n⠀\\n⠀\\n⠀\\n⠀\\n⠀\\n⠀\\n#월...              슈엘뷰티샵&아카데미   \n",
       "2     곧 5️⃣년 된다는 사실에 놀라고 졸업👩🏻‍🎓이라는 사실에 한번 더 놀라고 .. 🤭             Naive Place   \n",
       "3                           나 뭐가 달라진 거 같아~~~~??????😁                  Jeonju   \n",
       "4  ♥\\n\\n요즘 공기 봄 냄새나는거같아서 좋다☺️\\n쌩얼인데 어쩌라고\\n\\n#광주속눈...                     매곡동   \n",
       "5                             95 아니고 65 갬성\\n#레트로 #포즈                   법기수원지   \n",
       "6  옷 주섬.....\\n.\\n.\\n.\\n.\\n.\\n.\\n.\\n.\\n.\\n.\\n.\\n.\\...  스페이스앤무드 - Space & Mood   \n",
       "7                                         내 주말 돌려줘..                  대천해수욕장   \n",
       "8                                  이 시간까지 늦잠 너무 죠하♥️                     NaN   \n",
       "9  바람한테 싸맞아따,,그래도 오랜만에 본 바다는 너무너무너무너무 이뻤ㄷ ㅏ🌊\\n.\\n...     Gyungpo Beach, 경포해변   \n",
       "\n",
       "                                            hashtags  \n",
       "0  #광주#일상#일상스타그램#데일리룩#데일리#daily#dailylook#소통#소통해요...  \n",
       "1  #월요일#출근#뷰티샵#대구토탈뷰티샵#대구속눈썹#대구왁싱#슈엘뷰티#사진맛집#여행#핫플...  \n",
       "2  #광주#동명동#양림동#충장로#조대#조대후문#수완지구#상무지구#서울#부산#전주#셀피#...  \n",
       "3  #맞팔#팔로우#팔로워#셀카#인스타#셀피#일상#데일리#좋아요반사#좋아요#커피#오오티디...  \n",
       "4  #광주속눈썹연장#속눈썹연장잘하는곳#뷰티어스#뷰티어스래쉬#속눈썹연장#일상#출근#셀카#...  \n",
       "5  #레트로#포즈#인스타그램#셀스타그램#여행스타그램#일상#소통#인친#선팔하면맞팔#구시청...  \n",
       "6  #20#서면#예승이#항공과#여행스타그램#스무살#첫줄#첫줄반사#데일리#맞팔환영#운동#...  \n",
       "7  #전주#첫줄#객리단길#좋반#일상#선팔#맞팔#좋아요#셀카#셀피#전주카페#선팔환영#카페...  \n",
       "8  #셀스타그램#얼스타그램#좋반#오오티디#셀카#셀피#데일리#데일리그램#팔로우#좋아요#인...  \n",
       "9  #강릉여행#우정여행#경포해변#바람#때문에#어렵게#건진#사진들#스무살#20#선팔#맞팔...  "
      ]
     },
     "execution_count": 37,
     "metadata": {},
     "output_type": "execute_result"
    }
   ],
   "source": [
    "df = pd.read_csv(\"dataset.csv\")\n",
    "df.head(10)"
   ]
  },
  {
   "cell_type": "code",
   "execution_count": 38,
   "metadata": {},
   "outputs": [
    {
     "data": {
      "text/plain": [
       "0    #광주#일상#일상스타그램#데일리룩#데일리#daily#dailylook#소통#소통해요...\n",
       "1    #월요일#출근#뷰티샵#대구토탈뷰티샵#대구속눈썹#대구왁싱#슈엘뷰티#사진맛집#여행#핫플...\n",
       "2    #광주#동명동#양림동#충장로#조대#조대후문#수완지구#상무지구#서울#부산#전주#셀피#...\n",
       "3    #맞팔#팔로우#팔로워#셀카#인스타#셀피#일상#데일리#좋아요반사#좋아요#커피#오오티디...\n",
       "4    #광주속눈썹연장#속눈썹연장잘하는곳#뷰티어스#뷰티어스래쉬#속눈썹연장#일상#출근#셀카#...\n",
       "5    #레트로#포즈#인스타그램#셀스타그램#여행스타그램#일상#소통#인친#선팔하면맞팔#구시청...\n",
       "6    #20#서면#예승이#항공과#여행스타그램#스무살#첫줄#첫줄반사#데일리#맞팔환영#운동#...\n",
       "7    #전주#첫줄#객리단길#좋반#일상#선팔#맞팔#좋아요#셀카#셀피#전주카페#선팔환영#카페...\n",
       "8    #셀스타그램#얼스타그램#좋반#오오티디#셀카#셀피#데일리#데일리그램#팔로우#좋아요#인...\n",
       "9    #강릉여행#우정여행#경포해변#바람#때문에#어렵게#건진#사진들#스무살#20#선팔#맞팔...\n",
       "Name: hashtags, dtype: object"
      ]
     },
     "execution_count": 38,
     "metadata": {},
     "output_type": "execute_result"
    }
   ],
   "source": [
    "hashtags = df['hashtags']\n",
    "hashtags[:10]"
   ]
  },
  {
   "cell_type": "code",
   "execution_count": 40,
   "metadata": {},
   "outputs": [],
   "source": [
    "from eunjeon import Mecab\n",
    "mecab = Mecab()\n",
    "okt = konlpy.tag.Okt()\n",
    "kkma = konlpy.tag.Kkma()"
   ]
  },
  {
   "cell_type": "code",
   "execution_count": 41,
   "metadata": {
    "scrolled": false
   },
   "outputs": [
    {
     "data": {
      "text/html": [
       "<div>\n",
       "<style scoped>\n",
       "    .dataframe tbody tr th:only-of-type {\n",
       "        vertical-align: middle;\n",
       "    }\n",
       "\n",
       "    .dataframe tbody tr th {\n",
       "        vertical-align: top;\n",
       "    }\n",
       "\n",
       "    .dataframe thead th {\n",
       "        text-align: right;\n",
       "    }\n",
       "</style>\n",
       "<table border=\"1\" class=\"dataframe\">\n",
       "  <thead>\n",
       "    <tr style=\"text-align: right;\">\n",
       "      <th></th>\n",
       "      <th>Unnamed: 0</th>\n",
       "      <th>image_name</th>\n",
       "      <th>image_url</th>\n",
       "      <th>content</th>\n",
       "      <th>location</th>\n",
       "      <th>hashtags</th>\n",
       "    </tr>\n",
       "  </thead>\n",
       "  <tbody>\n",
       "    <tr>\n",
       "      <th>0</th>\n",
       "      <td>0</td>\n",
       "      <td>일상_0.jpg</td>\n",
       "      <td>https://scontent-ssn1-1.cdninstagram.com/v/t51...</td>\n",
       "      <td>날씨 너무 죠타🌸🌼🌸🌼🍃</td>\n",
       "      <td>Gwangju, South Korea</td>\n",
       "      <td>#광주#일상#일상스타그램#데일리룩#데일리#daily#dailylook#소통#소통해요...</td>\n",
       "    </tr>\n",
       "    <tr>\n",
       "      <th>1</th>\n",
       "      <td>1</td>\n",
       "      <td>일상_1.jpg</td>\n",
       "      <td>https://scontent-ssn1-1.cdninstagram.com/v/t51...</td>\n",
       "      <td>날씨 좋은 월요일 맛점💕\\n\\n⠀\\n⠀\\n⠀\\n⠀\\n⠀\\n⠀\\n⠀\\n⠀\\n⠀\\n#월...</td>\n",
       "      <td>슈엘뷰티샵&amp;아카데미</td>\n",
       "      <td>#월요일#출근#뷰티샵#대구토탈뷰티샵#대구속눈썹#대구왁싱#슈엘뷰티#사진맛집#여행#핫플...</td>\n",
       "    </tr>\n",
       "    <tr>\n",
       "      <th>2</th>\n",
       "      <td>2</td>\n",
       "      <td>일상_2.jpg</td>\n",
       "      <td>https://scontent-ssn1-1.cdninstagram.com/v/t51...</td>\n",
       "      <td>곧 5️⃣년 된다는 사실에 놀라고 졸업👩🏻‍🎓이라는 사실에 한번 더 놀라고 .. 🤭</td>\n",
       "      <td>Naive Place</td>\n",
       "      <td>#광주#동명동#양림동#충장로#조대#조대후문#수완지구#상무지구#서울#부산#전주#셀피#...</td>\n",
       "    </tr>\n",
       "    <tr>\n",
       "      <th>3</th>\n",
       "      <td>3</td>\n",
       "      <td>일상_3.jpg</td>\n",
       "      <td>https://scontent-ssn1-1.cdninstagram.com/v/t51...</td>\n",
       "      <td>나 뭐가 달라진 거 같아~~~~??????😁</td>\n",
       "      <td>Jeonju</td>\n",
       "      <td>#맞팔#팔로우#팔로워#셀카#인스타#셀피#일상#데일리#좋아요반사#좋아요#커피#오오티디...</td>\n",
       "    </tr>\n",
       "    <tr>\n",
       "      <th>4</th>\n",
       "      <td>4</td>\n",
       "      <td>일상_4.jpg</td>\n",
       "      <td>https://scontent-ssn1-1.cdninstagram.com/v/t51...</td>\n",
       "      <td>♥\\n\\n요즘 공기 봄 냄새나는거같아서 좋다☺️\\n쌩얼인데 어쩌라고\\n\\n#광주속눈...</td>\n",
       "      <td>매곡동</td>\n",
       "      <td>#광주속눈썹연장#속눈썹연장잘하는곳#뷰티어스#뷰티어스래쉬#속눈썹연장#일상#출근#셀카#...</td>\n",
       "    </tr>\n",
       "  </tbody>\n",
       "</table>\n",
       "</div>"
      ],
      "text/plain": [
       "   Unnamed: 0 image_name                                          image_url  \\\n",
       "0           0   일상_0.jpg  https://scontent-ssn1-1.cdninstagram.com/v/t51...   \n",
       "1           1   일상_1.jpg  https://scontent-ssn1-1.cdninstagram.com/v/t51...   \n",
       "2           2   일상_2.jpg  https://scontent-ssn1-1.cdninstagram.com/v/t51...   \n",
       "3           3   일상_3.jpg  https://scontent-ssn1-1.cdninstagram.com/v/t51...   \n",
       "4           4   일상_4.jpg  https://scontent-ssn1-1.cdninstagram.com/v/t51...   \n",
       "\n",
       "                                             content              location  \\\n",
       "0                                      날씨 너무 죠타🌸🌼🌸🌼🍃  Gwangju, South Korea   \n",
       "1  날씨 좋은 월요일 맛점💕\\n\\n⠀\\n⠀\\n⠀\\n⠀\\n⠀\\n⠀\\n⠀\\n⠀\\n⠀\\n#월...            슈엘뷰티샵&아카데미   \n",
       "2     곧 5️⃣년 된다는 사실에 놀라고 졸업👩🏻‍🎓이라는 사실에 한번 더 놀라고 .. 🤭           Naive Place   \n",
       "3                           나 뭐가 달라진 거 같아~~~~??????😁                Jeonju   \n",
       "4  ♥\\n\\n요즘 공기 봄 냄새나는거같아서 좋다☺️\\n쌩얼인데 어쩌라고\\n\\n#광주속눈...                   매곡동   \n",
       "\n",
       "                                            hashtags  \n",
       "0  #광주#일상#일상스타그램#데일리룩#데일리#daily#dailylook#소통#소통해요...  \n",
       "1  #월요일#출근#뷰티샵#대구토탈뷰티샵#대구속눈썹#대구왁싱#슈엘뷰티#사진맛집#여행#핫플...  \n",
       "2  #광주#동명동#양림동#충장로#조대#조대후문#수완지구#상무지구#서울#부산#전주#셀피#...  \n",
       "3  #맞팔#팔로우#팔로워#셀카#인스타#셀피#일상#데일리#좋아요반사#좋아요#커피#오오티디...  \n",
       "4  #광주속눈썹연장#속눈썹연장잘하는곳#뷰티어스#뷰티어스래쉬#속눈썹연장#일상#출근#셀카#...  "
      ]
     },
     "execution_count": 41,
     "metadata": {},
     "output_type": "execute_result"
    }
   ],
   "source": [
    "df.head()"
   ]
  },
  {
   "cell_type": "code",
   "execution_count": 42,
   "metadata": {},
   "outputs": [
    {
     "data": {
      "text/plain": [
       "'#instagood#instalike#instadaily#photography#daily#맞팔#좋반#좋아요반사#셀카#셀피#selfie#얼스타그램#일상#ootd#likeforlikes#fff#ulzzang#선팔하면맞팔#lfl#패션#맞팔해요#협찬문의#likeforlikeback#sections#followforfollowback#f4f#첫줄#고딩#04'"
      ]
     },
     "execution_count": 42,
     "metadata": {},
     "output_type": "execute_result"
    }
   ],
   "source": [
    "df['hashtags'][68]"
   ]
  },
  {
   "cell_type": "code",
   "execution_count": 43,
   "metadata": {
    "scrolled": true
   },
   "outputs": [
    {
     "name": "stdout",
     "output_type": "stream",
     "text": [
      "['광주 일상 일상스타그램 데일리룩 데일리 daily dailylook 소통 소통해요 맞팔 선팔 선팔하면맞팔 팔러우 좋아요 likeforlikes 좋아요반사 좋반 셀피 셀카 셀스타그램 오오티디 selfie selca fff lfl l4l f4f followforfollowback follwer ootd', '월요일 출근 뷰티샵 대구토탈뷰티샵 대구속눈썹 대구왁싱 슈엘뷰티 사진맛집 여행 핫플 인생샷명소 사진명소 좋반 좋아요 일상 소통 데일리룩 맞팔 선팔 셀스타그램 beauty selfie daily followforfollowback follow4like likeforlikes instadaily ootd fff fashion', '광주 동명동 양림동 충장로 조대 조대후문 수완지구 상무지구 서울 부산 전주 셀피 셀스타 일상 데일리 instadaily instamood selfie selca 좋반 좋아요반사 오오티디 오오티디룩 lfl fff lll 나이브플레이스 졸업', '맞팔 팔로우 팔로워 셀카 인스타 셀피 일상 데일리 좋아요반사 좋아요 커피 오오티디 오픈카톡 카페 다이렉트 cafe selfie ootd l4l f4f instagram instadaily instalike instagood like4like daily 전주 신시가지 환영 첫줄', '광주속눈썹연장 속눈썹연장잘하는곳 뷰티어스 뷰티어스래쉬 속눈썹연장 일상 출근 셀카 셀스타그램 오오티디 데일리그램 dailygram 맛점 점심시간 배고파 ㅠㅠ 우아우네일 넘이쁘당 상무지구 동명동 상무지구카페 동명동카페']\n"
     ]
    }
   ],
   "source": [
    "hashtag_list = []\n",
    "for i in range(len(hashtags)):\n",
    "    if type(hashtags[i]) != str:\n",
    "        hashtag_list.append('')\n",
    "    else:\n",
    "        hashtag_list.append(' '.join(hashtags[i].split('#')[1:]))\n",
    "print(hashtag_list[:5])"
   ]
  },
  {
   "cell_type": "code",
   "execution_count": 44,
   "metadata": {
    "scrolled": true
   },
   "outputs": [
    {
     "name": "stdout",
     "output_type": "stream",
     "text": [
      "[['광주', '일상', '일상', '스타', '그램', '데일리', '룩', '데일리', 'daily', 'dailylook', '소통', '소통', '해요', '맞', '팔', '선', '팔', '선', '팔', '하', '면', '맞', '팔', '팔', '러', '우', '좋', '아요', 'likeforlikes', '좋', '아요', '반사', '좋', '반', '셀피', '셀카', '셀', '스타', '그램', '오', '오', '티', '디', 'selfie', 'selca', 'fff', 'lfl', 'l', '4', 'l', 'f', '4', 'f', 'followforfollowback', 'follwer', 'ootd'], ['월요일', '출근', '뷰티', '샵', '대구', '토탈', '뷰티', '샵', '대구', '속눈썹', '대구', '왁', '싱', '슈엘', '뷰티', '사진', '맛집', '여행', '핫', '플', '인생', '샷', '명소', '사진', '명소', '좋', '반', '좋', '아요', '일상', '소통', '데일리', '룩', '맞', '팔', '선', '팔', '셀', '스타', '그램', 'beauty', 'selfie', 'daily', 'followforfollowback', 'follow', '4', 'like', 'likeforlikes', 'instadaily', 'ootd', 'fff', 'fashion'], ['광주', '동명동', '양림동', '충장로', '조', '대', '조', '대', '후문', '수완', '지구', '상무', '지구', '서울', '부산', '전주', '셀피', '셀', '스타', '일상', '데일리', 'instadaily', 'instamood', 'selfie', 'selca', '좋', '반', '좋', '아요', '반사', '오', '오', '티', '디', '오', '오', '티', '디룩', 'lfl', 'fff', 'lll', '나이브', '플레이스', '졸업'], ['맞', '팔', '팔', '로', '우', '팔', '로워', '셀카', '인', '스타', '셀피', '일상', '데일리', '좋', '아요', '반사', '좋', '아요', '커피', '오', '오', '티', '디', '오픈카', '톡', '카페', '다이렉트', 'cafe', 'selfie', 'ootd', 'l', '4', 'l', 'f', '4', 'f', 'instagram', 'instadaily', 'instalike', 'instagood', 'like', '4', 'like', 'daily', '전주', '신시', '가지', '환영', '첫', '줄'], ['광주', '속눈썹', '연장', '속눈썹', '연장', '잘', '하', '는', '곳', '뷰티', '어스', '뷰티', '어스', '래쉬', '속눈썹', '연장', '일상', '출근', '셀카', '셀', '스타', '그램', '오', '오', '티', '디', '데일리', '그램', 'dailygram', '맛', '점', '점심', '시간', '배고파', 'ㅠㅠ', '우아', '우네', '일', '넘', '이쁘', '당', '상무', '지구', '동명동', '상무', '지구', '카페', '동명동', '카페']]\n"
     ]
    }
   ],
   "source": [
    "tokenized = []\n",
    "for sentence in hashtag_list:\n",
    "    tokens = mecab.morphs(sentence)\n",
    "    tokenized.append(tokens)\n",
    "print(tokenized[:5])"
   ]
  },
  {
   "cell_type": "code",
   "execution_count": 45,
   "metadata": {
    "scrolled": false
   },
   "outputs": [
    {
     "data": {
      "image/png": "[encoded data removed]",
      "text/plain": [
       "<Figure size 432x288 with 1 Axes>"
      ]
     },
     "metadata": {
      "needs_background": "light"
     },
     "output_type": "display_data"
    }
   ],
   "source": [
    "plt.hist([len(s) for s in tokenized], bins=50)\n",
    "plt.show()"
   ]
  },
  {
   "cell_type": "code",
   "execution_count": 46,
   "metadata": {},
   "outputs": [],
   "source": [
    "from gensim.models import Word2Vec\n",
    "model = Word2Vec(sentences = tokenized, size = 100, window = 10, min_count = 5, workers = 4, sg = 1)"
   ]
  },
  {
   "cell_type": "code",
   "execution_count": 47,
   "metadata": {},
   "outputs": [
    {
     "data": {
      "text/plain": [
       "(4266, 100)"
      ]
     },
     "execution_count": 47,
     "metadata": {},
     "output_type": "execute_result"
    }
   ],
   "source": [
    "model.wv.vectors.shape"
   ]
  },
  {
   "cell_type": "code",
   "execution_count": 48,
   "metadata": {
    "scrolled": true
   },
   "outputs": [
    {
     "name": "stdout",
     "output_type": "stream",
     "text": [
      "[('개월', 0.8216731548309326), ('베이비', 0.8020554780960083), ('청양', 0.7687114477157593), ('31', 0.7682582139968872), ('애기', 0.7621430158615112), ('베베', 0.7561869621276855), ('33', 0.7550663948059082), ('연년생', 0.7516469955444336), ('황금', 0.7513975501060486), ('kids', 0.750623345375061)]\n"
     ]
    }
   ],
   "source": [
    "print(model.wv.most_similar('아기'))"
   ]
  },
  {
   "cell_type": "code",
   "execution_count": 49,
   "metadata": {
    "scrolled": false
   },
   "outputs": [
    {
     "data": {
      "text/plain": [
       "[('개월', 0.8216731548309326),\n",
       " ('베이비', 0.8020554780960083),\n",
       " ('청양', 0.7687114477157593),\n",
       " ('31', 0.7682582139968872),\n",
       " ('애기', 0.7621430158615112),\n",
       " ('베베', 0.7561869621276855),\n",
       " ('33', 0.7550663948059082),\n",
       " ('연년생', 0.7516469955444336),\n",
       " ('황금', 0.7513975501060486),\n",
       " ('kids', 0.750623345375061)]"
      ]
     },
     "execution_count": 49,
     "metadata": {},
     "output_type": "execute_result"
    }
   ],
   "source": [
    "t = '아기'\n",
    "model.wv.most_similar(t,topn=10)"
   ]
  },
  {
   "cell_type": "code",
   "execution_count": 50,
   "metadata": {
    "scrolled": false
   },
   "outputs": [
    {
     "data": {
      "text/html": [
       "<div>\n",
       "<style scoped>\n",
       "    .dataframe tbody tr th:only-of-type {\n",
       "        vertical-align: middle;\n",
       "    }\n",
       "\n",
       "    .dataframe tbody tr th {\n",
       "        vertical-align: top;\n",
       "    }\n",
       "\n",
       "    .dataframe thead th {\n",
       "        text-align: right;\n",
       "    }\n",
       "</style>\n",
       "<table border=\"1\" class=\"dataframe\">\n",
       "  <thead>\n",
       "    <tr style=\"text-align: right;\">\n",
       "      <th></th>\n",
       "      <th>Token</th>\n",
       "      <th>Similarity</th>\n",
       "      <th>transition_probability</th>\n",
       "    </tr>\n",
       "  </thead>\n",
       "  <tbody>\n",
       "    <tr>\n",
       "      <th>0</th>\n",
       "      <td>개월</td>\n",
       "      <td>0.821673</td>\n",
       "      <td>0.246502</td>\n",
       "    </tr>\n",
       "    <tr>\n",
       "      <th>1</th>\n",
       "      <td>베이비</td>\n",
       "      <td>0.802055</td>\n",
       "      <td>0.240617</td>\n",
       "    </tr>\n",
       "    <tr>\n",
       "      <th>2</th>\n",
       "      <td>청양</td>\n",
       "      <td>0.768711</td>\n",
       "      <td>0.230613</td>\n",
       "    </tr>\n",
       "    <tr>\n",
       "      <th>3</th>\n",
       "      <td>31</td>\n",
       "      <td>0.768258</td>\n",
       "      <td>0.230477</td>\n",
       "    </tr>\n",
       "    <tr>\n",
       "      <th>4</th>\n",
       "      <td>애기</td>\n",
       "      <td>0.762143</td>\n",
       "      <td>0.228643</td>\n",
       "    </tr>\n",
       "    <tr>\n",
       "      <th>5</th>\n",
       "      <td>베베</td>\n",
       "      <td>0.756187</td>\n",
       "      <td>0.226856</td>\n",
       "    </tr>\n",
       "    <tr>\n",
       "      <th>6</th>\n",
       "      <td>33</td>\n",
       "      <td>0.755066</td>\n",
       "      <td>0.226520</td>\n",
       "    </tr>\n",
       "    <tr>\n",
       "      <th>7</th>\n",
       "      <td>연년생</td>\n",
       "      <td>0.751647</td>\n",
       "      <td>0.225494</td>\n",
       "    </tr>\n",
       "    <tr>\n",
       "      <th>8</th>\n",
       "      <td>황금</td>\n",
       "      <td>0.751398</td>\n",
       "      <td>0.225419</td>\n",
       "    </tr>\n",
       "    <tr>\n",
       "      <th>9</th>\n",
       "      <td>kids</td>\n",
       "      <td>0.750623</td>\n",
       "      <td>0.225187</td>\n",
       "    </tr>\n",
       "  </tbody>\n",
       "</table>\n",
       "</div>"
      ],
      "text/plain": [
       "  Token  Similarity  transition_probability\n",
       "0    개월    0.821673                0.246502\n",
       "1   베이비    0.802055                0.240617\n",
       "2    청양    0.768711                0.230613\n",
       "3    31    0.768258                0.230477\n",
       "4    애기    0.762143                0.228643\n",
       "5    베베    0.756187                0.226856\n",
       "6    33    0.755066                0.226520\n",
       "7   연년생    0.751647                0.225494\n",
       "8    황금    0.751398                0.225419\n",
       "9  kids    0.750623                0.225187"
      ]
     },
     "execution_count": 50,
     "metadata": {},
     "output_type": "execute_result"
    }
   ],
   "source": [
    "df2 = pd.DataFrame(model.wv.most_similar(t,topn=10), columns = ['Token', 'Similarity'])\n",
    "alpha = 0.3\n",
    "df2['transition_probability'] = df2['Similarity'] * alpha\n",
    "df2"
   ]
  },
  {
   "cell_type": "code",
   "execution_count": 51,
   "metadata": {},
   "outputs": [
    {
     "name": "stdout",
     "output_type": "stream",
     "text": [
      "[('형제', 0.8418751955032349), ('고슴도치', 0.8236270546913147), ('왕자', 0.8183688521385193), ('바보', 0.8122718334197998), ('instakids', 0.8096888065338135), ('말띠', 0.8078591823577881), ('원숭이띠', 0.8067766427993774), ('닭띠', 0.8048343658447266), ('연년생', 0.802126407623291), ('독박', 0.8017171621322632)]\n"
     ]
    }
   ],
   "source": [
    "print(model.wv.most_similar('아들'))"
   ]
  },
  {
   "cell_type": "code",
   "execution_count": 17,
   "metadata": {},
   "outputs": [],
   "source": [
    "tkn_cnt = 0\n",
    "t = '아들'\n",
    "total = len(tokenized)\n",
    "for i in range(total):\n",
    "    if t in tokenized[i]:\n",
    "        tkn_cnt += 1\n",
    "p_t_curr = tkn_cnt / total\n",
    "\n",
    "p_next_list = []\n",
    "exp_cnt = 0\n",
    "for i in range(total):\n",
    "    p_list = []\n",
    "    for j in range(len(tokenized[i])):\n",
    "        cnt = 0\n",
    "        \n",
    "        for k in range(total):\n",
    "            if t + tokenized[i][j] in hashtag_list[k]:\n",
    "                cnt += 1\n",
    "        p_list.append((cnt/total) / p_t_curr)\n",
    "    p_next_list.append(p_list)\n"
   ]
  },
  {
   "cell_type": "code",
   "execution_count": 18,
   "metadata": {},
   "outputs": [
    {
     "name": "stdout",
     "output_type": "stream",
     "text": [
      "[[0.0, 0.007194244604316547, 0.0, 0.02158273381294964, 0.02158273381294964, 0.4772182254196643, 0.0, 0.0, 0.0, 0.0, 0.02158273381294964, 0.5155875299760192, 0.02877697841726619, 0.02158273381294964, 0.0023980815347721825, 0.0, 0.0, 0.0, 0.0, 0.0, 0.0, 0.0, 0.0, 0.0, 0.0, 0.0, 0.0, 0.0, 0.0, 0.0, 0.0, 0.0, 0.0, 0.0, 0.4772182254196643, 0.0, 0.4772182254196643, 0.0, 0.4772182254196643, 0.0, 0.4772182254196643, 0.0, 0.0, 0.0, 0.0, 0.0, 0.0, 0.0, 0.0, 0.0, 0.0, 0.0, 0.0, 0.0, 0.0023980815347721825, 0.0, 0.0, 0.02158273381294964, 0.007194244604316547, 0.0, 0.0], [0.0, 0.0, 0.0, 0.0, 0.0, 0.0, 0.016786570743405275, 0.0, 0.0, 0.0, 0.0, 0.0, 0.0, 0.007194244604316547, 0.0, 0.0, 0.0, 0.0, 0.0, 0.0, 0.0, 0.0, 0.4772182254196643, 0.0, 0.004796163069544365, 0.4772182254196643, 0.0, 0.0, 0.4772182254196643, 0.0, 0.0, 0.0, 0.4772182254196643, 0.0, 0.0, 0.0, 0.0, 0.02158273381294964, 0.0023980815347721825, 0.02158273381294964, 0.0023980815347721825, 0.0, 0.0, 0.02158273381294964], [0.0, 0.0, 0.0, 0.0, 0.02158273381294964, 0.02158273381294964, 0.0023980815347721825, 0.0023980815347721825, 0.0, 0.0, 0.0, 0.0, 0.0, 0.0, 0.0, 0.4772182254196643, 0.0, 0.02877697841726619, 0.0, 0.0, 0.0, 0.0, 0.0, 0.02158273381294964, 0.0, 0.0023980815347721825, 0.0, 0.0, 0.0, 0.0, 0.0, 0.0, 0.0], [0.0, 0.0, 0.4772182254196643, 0.02158273381294964, 0.02158273381294964, 0.0023980815347721825, 0.02158273381294964, 0.0023980815347721825, 0.0, 0.0, 0.4772182254196643, 0.0, 0.5155875299760192, 0.02877697841726619, 0.0, 0.0, 0.0, 0.0, 0.0, 0.0, 0.0, 0.0, 0.0, 0.0, 0.0, 0.0, 0.0, 0.007194244604316547, 0.0], [0.0, 0.0, 0.0, 0.0, 0.0, 0.0, 0.0, 0.004796163069544365, 0.0, 0.0, 0.0, 0.0, 0.0, 0.0, 0.4772182254196643, 0.02158273381294964, 0.02158273381294964, 0.0023980815347721825, 0.02158273381294964, 0.5155875299760192, 0.02877697841726619]]\n",
      "884\n"
     ]
    }
   ],
   "source": [
    "print(p_next_list[:5])\n",
    "print(len(p_next_list))"
   ]
  },
  {
   "cell_type": "code",
   "execution_count": 19,
   "metadata": {},
   "outputs": [
    {
     "name": "stdout",
     "output_type": "stream",
     "text": [
      "{'램', '육아', '래미', '스', '바보', '바', '옷', '래', '맘', '스타', '그', '육', '그램', '둘'}\n"
     ]
    }
   ],
   "source": [
    "able = []\n",
    "for i in range(total):\n",
    "    for j in range(len(tokenized[i])):\n",
    "        if p_next_list[i][j] > 0.01:\n",
    "            able.append(tokenized[i][j])\n",
    "print(set(able))"
   ]
  },
  {
   "cell_type": "markdown",
   "metadata": {},
   "source": [
    "중복 토큰 삭제  \n",
    "전환, 확장"
   ]
  },
  {
   "cell_type": "code",
   "execution_count": 120,
   "metadata": {},
   "outputs": [],
   "source": [
    "# 필요 - 태그들이 쭉 있는 str, 토큰들이 있는 리스트, \n",
    "\n",
    "def TagExpansion(data, tkn, alpha, pivot):    \n",
    "\n",
    "    # 토큰들이 들어있는 리스트?\n",
    "#     tokenized = []\n",
    "#     for sentence in hashtag_joined:\n",
    "#         tokens = mecab.morphs(sentence)\n",
    "#         tokenized.append(tokens)\n",
    "    \n",
    "    probs = getCondtnlProb(data, tokenized, tkn, pivot)\n",
    "    if len(probs) == 0:\n",
    "        return [tkn]\n",
    "\n",
    "    \n",
    "\n",
    "    probs2 = []\n",
    "    for t in probs:\n",
    "        probs2.append(getCondtnlProb(data, tokenized, t[0], pivot/alpha))\n",
    "        \n",
    "    probs3 = []\n",
    "    for t in probs2:\n",
    "        if len(t) == 0:\n",
    "            probs3.append([])\n",
    "        else:\n",
    "            temp = []\n",
    "            for i in range(len(t)):\n",
    "                temp.append(getCondtnlProb(data, tokenized, t[i][0], pivot/(alpha**2)))\n",
    "        probs3.append(temp)\n",
    "    \n",
    "    \n",
    "    \n",
    "    hashtag = [tkn+probs[k][0] for k in range(len(probs)) ]\n",
    "    tag=[]\n",
    "    for i in range(len(hashtag)):\n",
    "        for j in range(len(probs2[i])):\n",
    "            hashtag.append(hashtag[i]+probs2[i][j][0])\n",
    "    \n",
    "    return probs, probs2, probs3, hashtag\n"
   ]
  },
  {
   "cell_type": "code",
   "execution_count": 70,
   "metadata": {},
   "outputs": [],
   "source": [
    "# 조건부 확률을 돌려주는 함수?\n",
    "def getCondtnlProb(data, tokenized_tags, tkn, pivot):\n",
    "    ret = []\n",
    "    # 기준 토큰 등장 확률\n",
    "    tkn_cnt = 0\n",
    "    total = len(tokenized_tags)\n",
    "    idxs = []\n",
    "    next_tkn = []\n",
    "    for i in range(total):\n",
    "        for j in range(len(tokenized_tags[i])):\n",
    "            if tokenized_tags[i][j] == tkn:\n",
    "                tkn_cnt += 1\n",
    "                idxs.append([i,j])\n",
    "                if j+1 < len(tokenized_tags[i]):\n",
    "                    next_tkn.append(tokenized_tags[i][j+1])\n",
    "\n",
    "    p_cur = tkn_cnt / total\n",
    "    \n",
    "    ### 코드 변경\n",
    "    p_nexts = []\n",
    "    next_cnt = 0\n",
    "    # t: 토큰셋\n",
    "    t = list(set(next_tkn))\n",
    "    for i in range(len(t)):\n",
    "        cnt = 0\n",
    "        for idx in idxs:\n",
    "            if idx[1]+1 < len(tokenized_tags[idx[0]]) and tokenized_tags[idx[0]][idx[1]+1] == t[i]:\n",
    "                cnt += 1\n",
    "        p_nexts.append([t[i],(cnt/total) / p_cur])\n",
    "    \n",
    "    for i in range(len(p_nexts)):\n",
    "        if p_nexts[i][1] > pivot:\n",
    "            if p_nexts[i][0] == tkn:\n",
    "                continue\n",
    "            ret.append(p_nexts[i])\n",
    "    \n",
    "    return ret"
   ]
  },
  {
   "cell_type": "code",
   "execution_count": 125,
   "metadata": {
    "scrolled": false
   },
   "outputs": [
    {
     "data": {
      "text/plain": [
       "([['스타', 0.27695351137487634], ['맘', 0.26409495548961426]],\n",
       " [[['그램', 0.9130764052507574]], []],\n",
       " [[[]], [], [[]]],\n",
       " ['아들스타', '아들맘', '아들스타그램'])"
      ]
     },
     "execution_count": 125,
     "metadata": {},
     "output_type": "execute_result"
    }
   ],
   "source": [
    "TagExpansion(df, '아들', 0.7, 0.1)"
   ]
  },
  {
   "cell_type": "code",
   "execution_count": 131,
   "metadata": {},
   "outputs": [
    {
     "data": {
      "text/plain": [
       "([['스타', 0.2770618556701031], ['맘', 0.2719072164948454]], ['스타', '맘'])"
      ]
     },
     "execution_count": 131,
     "metadata": {},
     "output_type": "execute_result"
    }
   ],
   "source": [
    "TagExpansion(df, '아들', 0.7, 0.2)"
   ]
  }
 ],
 "metadata": {
  "kernelspec": {
   "display_name": "Python 3",
   "language": "python",
   "name": "python3"
  },
  "language_info": {
   "codemirror_mode": {
    "name": "ipython",
    "version": 3
   },
   "file_extension": ".py",
   "mimetype": "text/x-python",
   "name": "python",
   "nbconvert_exporter": "python",
   "pygments_lexer": "ipython3",
   "version": "3.7.1"
  }
 },
 "nbformat": 4,
 "nbformat_minor": 4
}
