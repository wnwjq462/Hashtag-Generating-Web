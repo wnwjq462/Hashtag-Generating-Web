{
 "cells": [
  {
   "cell_type": "markdown",
   "metadata": {},
   "source": [
    "# 모델링 - 토큰 전환"
   ]
  },
  {
   "cell_type": "markdown",
   "metadata": {},
   "source": [
    "2021.02.24 (수) 김채형"
   ]
  },
  {
   "cell_type": "code",
   "execution_count": 1,
   "metadata": {},
   "outputs": [],
   "source": [
    "import warnings\n",
    "warnings.filterwarnings(action='ignore')"
   ]
  },
  {
   "cell_type": "code",
   "execution_count": 2,
   "metadata": {},
   "outputs": [],
   "source": [
    "def PreprocessingHashtag(path):\n",
    "    \n",
    "    import pandas as pd\n",
    "    import re\n",
    "    \n",
    "    # 데이터 불러오기\n",
    "    data = pd.read_csv(path, index_col=0)\n",
    "    \n",
    "    # 해시태그에서 특수문자 제거 후 우물 정(#) 기준으로 분리\n",
    "    p = re.compile(r'[가-힣# ]+')\n",
    "    data['hashtags_splitted'] = data['hashtags'].apply(lambda x: ''.join(p.findall(str(x))).split('#'))\n",
    "    \n",
    "    # 빈 해시태그 제거\n",
    "    data['hashtags_completed'] = ''\n",
    "    for i in range(len(data)):\n",
    "        ls = [word for word in data.loc[i, 'hashtags_splitted'] if word!='']\n",
    "        data.loc[i, 'hashtags_completed'] = ls\n",
    "        \n",
    "    # 장소를 해시태그에 추가\n",
    "    l = data['location'].fillna('')\n",
    "    for i in range(len(data)):\n",
    "        result = re.compile(r'[가-힣]+').search(l[i])\n",
    "        if result!=None:\n",
    "            data.loc[i, 'hashtags_completed'].append(result.group())\n",
    "\n",
    "    # 컬럼 삭제\n",
    "    data.drop(['hashtags', 'hashtags_splitted'], axis=1, inplace=True)\n",
    "    \n",
    "    # 컬럼명 변경\n",
    "    data.rename({'hashtags_completed':'hashtags'}, axis=1, inplace=True)\n",
    "    \n",
    "    return data"
   ]
  },
  {
   "cell_type": "code",
   "execution_count": 3,
   "metadata": {},
   "outputs": [
    {
     "data": {
      "text/html": [
       "<div>\n",
       "<style scoped>\n",
       "    .dataframe tbody tr th:only-of-type {\n",
       "        vertical-align: middle;\n",
       "    }\n",
       "\n",
       "    .dataframe tbody tr th {\n",
       "        vertical-align: top;\n",
       "    }\n",
       "\n",
       "    .dataframe thead th {\n",
       "        text-align: right;\n",
       "    }\n",
       "</style>\n",
       "<table border=\"1\" class=\"dataframe\">\n",
       "  <thead>\n",
       "    <tr style=\"text-align: right;\">\n",
       "      <th></th>\n",
       "      <th>image_name</th>\n",
       "      <th>image_url</th>\n",
       "      <th>content</th>\n",
       "      <th>location</th>\n",
       "      <th>hashtags</th>\n",
       "    </tr>\n",
       "  </thead>\n",
       "  <tbody>\n",
       "    <tr>\n",
       "      <th>0</th>\n",
       "      <td>일상_0.jpg</td>\n",
       "      <td>https://scontent-ssn1-1.cdninstagram.com/v/t51...</td>\n",
       "      <td>날씨 너무 죠타🌸🌼🌸🌼🍃</td>\n",
       "      <td>Gwangju, South Korea</td>\n",
       "      <td>[광주, 일상, 일상스타그램, 데일리룩, 데일리, 소통, 소통해요, 맞팔, 선팔, ...</td>\n",
       "    </tr>\n",
       "    <tr>\n",
       "      <th>1</th>\n",
       "      <td>일상_1.jpg</td>\n",
       "      <td>https://scontent-ssn1-1.cdninstagram.com/v/t51...</td>\n",
       "      <td>날씨 좋은 월요일 맛점💕\\n\\n⠀\\n⠀\\n⠀\\n⠀\\n⠀\\n⠀\\n⠀\\n⠀\\n⠀\\n#월...</td>\n",
       "      <td>슈엘뷰티샵&amp;아카데미</td>\n",
       "      <td>[월요일, 출근, 뷰티샵, 대구토탈뷰티샵, 대구속눈썹, 대구왁싱, 슈엘뷰티, 사진맛...</td>\n",
       "    </tr>\n",
       "    <tr>\n",
       "      <th>2</th>\n",
       "      <td>일상_2.jpg</td>\n",
       "      <td>https://scontent-ssn1-1.cdninstagram.com/v/t51...</td>\n",
       "      <td>곧 5️⃣년 된다는 사실에 놀라고 졸업👩🏻‍🎓이라는 사실에 한번 더 놀라고 .. 🤭</td>\n",
       "      <td>Naive Place</td>\n",
       "      <td>[광주, 동명동, 양림동, 충장로, 조대, 조대후문, 수완지구, 상무지구, 서울, ...</td>\n",
       "    </tr>\n",
       "    <tr>\n",
       "      <th>3</th>\n",
       "      <td>일상_3.jpg</td>\n",
       "      <td>https://scontent-ssn1-1.cdninstagram.com/v/t51...</td>\n",
       "      <td>나 뭐가 달라진 거 같아~~~~??????😁</td>\n",
       "      <td>Jeonju</td>\n",
       "      <td>[맞팔, 팔로우, 팔로워, 셀카, 인스타, 셀피, 일상, 데일리, 좋아요반사, 좋아...</td>\n",
       "    </tr>\n",
       "    <tr>\n",
       "      <th>4</th>\n",
       "      <td>일상_4.jpg</td>\n",
       "      <td>https://scontent-ssn1-1.cdninstagram.com/v/t51...</td>\n",
       "      <td>♥\\n\\n요즘 공기 봄 냄새나는거같아서 좋다☺️\\n쌩얼인데 어쩌라고\\n\\n#광주속눈...</td>\n",
       "      <td>매곡동</td>\n",
       "      <td>[광주속눈썹연장, 속눈썹연장잘하는곳, 뷰티어스, 뷰티어스래쉬, 속눈썹연장, 일상, ...</td>\n",
       "    </tr>\n",
       "    <tr>\n",
       "      <th>...</th>\n",
       "      <td>...</td>\n",
       "      <td>...</td>\n",
       "      <td>...</td>\n",
       "      <td>...</td>\n",
       "      <td>...</td>\n",
       "    </tr>\n",
       "    <tr>\n",
       "      <th>5386</th>\n",
       "      <td>펫스타그램_95.jpg</td>\n",
       "      <td>https://scontent-ssn1-1.cdninstagram.com/v/t51...</td>\n",
       "      <td>달이,, 준며들다,,__</td>\n",
       "      <td>NaN</td>\n",
       "      <td>[개스타그램, 멍스타그램, 반려견, 반려동물, 강아지, 일상, 댕댕이, 독스타그램,...</td>\n",
       "    </tr>\n",
       "    <tr>\n",
       "      <th>5387</th>\n",
       "      <td>펫스타그램_96.jpg</td>\n",
       "      <td>https://scontent-ssn1-1.cdninstagram.com/v/t51...</td>\n",
       "      <td>왜..그렇게 그윽하게 보는거야..?\\n.\\n.\\n.\\n#코리안쇼콧 #kitty #고...</td>\n",
       "      <td>NaN</td>\n",
       "      <td>[코리안쇼콧, 고양이, 반려묘, 일상, 미묘, 소통, 좋아요, 데일리, 펫스타그램,...</td>\n",
       "    </tr>\n",
       "    <tr>\n",
       "      <th>5388</th>\n",
       "      <td>펫스타그램_97.jpg</td>\n",
       "      <td>https://scontent-ssn1-1.cdninstagram.com/v/t51...</td>\n",
       "      <td>Rookie</td>\n",
       "      <td>NaN</td>\n",
       "      <td>[크레스티드게코, 릴리화이트, 파충류, 도마뱀, 데일리, 펫스타그램]</td>\n",
       "    </tr>\n",
       "    <tr>\n",
       "      <th>5389</th>\n",
       "      <td>펫스타그램_98.jpg</td>\n",
       "      <td>https://scontent-ssn1-1.cdninstagram.com/v/t51...</td>\n",
       "      <td>나도 육포를 달라개!\\n자기들 끼리 육포 먹고..__</td>\n",
       "      <td>NaN</td>\n",
       "      <td>[애견, 강아지스타그램, 멍스타그램, 멍멍스타그램, 푸들, 푸들믹스견, 개, 좋아요...</td>\n",
       "    </tr>\n",
       "    <tr>\n",
       "      <th>5390</th>\n",
       "      <td>펫스타그램_99.jpg</td>\n",
       "      <td>https://scontent-ssn1-1.cdninstagram.com/v/t51...</td>\n",
       "      <td>사람처럼 팔 배고 낸내 __ #전요미하고싶은거다해</td>\n",
       "      <td>NaN</td>\n",
       "      <td>[전요미하고싶은거다해, 요미, 부산, 멍스타그램, 견스타그램, 강아지, 반려견, 반...</td>\n",
       "    </tr>\n",
       "  </tbody>\n",
       "</table>\n",
       "<p>5391 rows × 5 columns</p>\n",
       "</div>"
      ],
      "text/plain": [
       "        image_name                                          image_url  \\\n",
       "0         일상_0.jpg  https://scontent-ssn1-1.cdninstagram.com/v/t51...   \n",
       "1         일상_1.jpg  https://scontent-ssn1-1.cdninstagram.com/v/t51...   \n",
       "2         일상_2.jpg  https://scontent-ssn1-1.cdninstagram.com/v/t51...   \n",
       "3         일상_3.jpg  https://scontent-ssn1-1.cdninstagram.com/v/t51...   \n",
       "4         일상_4.jpg  https://scontent-ssn1-1.cdninstagram.com/v/t51...   \n",
       "...            ...                                                ...   \n",
       "5386  펫스타그램_95.jpg  https://scontent-ssn1-1.cdninstagram.com/v/t51...   \n",
       "5387  펫스타그램_96.jpg  https://scontent-ssn1-1.cdninstagram.com/v/t51...   \n",
       "5388  펫스타그램_97.jpg  https://scontent-ssn1-1.cdninstagram.com/v/t51...   \n",
       "5389  펫스타그램_98.jpg  https://scontent-ssn1-1.cdninstagram.com/v/t51...   \n",
       "5390  펫스타그램_99.jpg  https://scontent-ssn1-1.cdninstagram.com/v/t51...   \n",
       "\n",
       "                                                content              location  \\\n",
       "0                                         날씨 너무 죠타🌸🌼🌸🌼🍃  Gwangju, South Korea   \n",
       "1     날씨 좋은 월요일 맛점💕\\n\\n⠀\\n⠀\\n⠀\\n⠀\\n⠀\\n⠀\\n⠀\\n⠀\\n⠀\\n#월...            슈엘뷰티샵&아카데미   \n",
       "2        곧 5️⃣년 된다는 사실에 놀라고 졸업👩🏻‍🎓이라는 사실에 한번 더 놀라고 .. 🤭           Naive Place   \n",
       "3                              나 뭐가 달라진 거 같아~~~~??????😁                Jeonju   \n",
       "4     ♥\\n\\n요즘 공기 봄 냄새나는거같아서 좋다☺️\\n쌩얼인데 어쩌라고\\n\\n#광주속눈...                   매곡동   \n",
       "...                                                 ...                   ...   \n",
       "5386                                      달이,, 준며들다,,__                   NaN   \n",
       "5387  왜..그렇게 그윽하게 보는거야..?\\n.\\n.\\n.\\n#코리안쇼콧 #kitty #고...                   NaN   \n",
       "5388                                             Rookie                   NaN   \n",
       "5389                      나도 육포를 달라개!\\n자기들 끼리 육포 먹고..__                   NaN   \n",
       "5390                        사람처럼 팔 배고 낸내 __ #전요미하고싶은거다해                   NaN   \n",
       "\n",
       "                                               hashtags  \n",
       "0     [광주, 일상, 일상스타그램, 데일리룩, 데일리, 소통, 소통해요, 맞팔, 선팔, ...  \n",
       "1     [월요일, 출근, 뷰티샵, 대구토탈뷰티샵, 대구속눈썹, 대구왁싱, 슈엘뷰티, 사진맛...  \n",
       "2     [광주, 동명동, 양림동, 충장로, 조대, 조대후문, 수완지구, 상무지구, 서울, ...  \n",
       "3     [맞팔, 팔로우, 팔로워, 셀카, 인스타, 셀피, 일상, 데일리, 좋아요반사, 좋아...  \n",
       "4     [광주속눈썹연장, 속눈썹연장잘하는곳, 뷰티어스, 뷰티어스래쉬, 속눈썹연장, 일상, ...  \n",
       "...                                                 ...  \n",
       "5386  [개스타그램, 멍스타그램, 반려견, 반려동물, 강아지, 일상, 댕댕이, 독스타그램,...  \n",
       "5387  [코리안쇼콧, 고양이, 반려묘, 일상, 미묘, 소통, 좋아요, 데일리, 펫스타그램,...  \n",
       "5388             [크레스티드게코, 릴리화이트, 파충류, 도마뱀, 데일리, 펫스타그램]  \n",
       "5389  [애견, 강아지스타그램, 멍스타그램, 멍멍스타그램, 푸들, 푸들믹스견, 개, 좋아요...  \n",
       "5390  [전요미하고싶은거다해, 요미, 부산, 멍스타그램, 견스타그램, 강아지, 반려견, 반...  \n",
       "\n",
       "[5391 rows x 5 columns]"
      ]
     },
     "execution_count": 3,
     "metadata": {},
     "output_type": "execute_result"
    }
   ],
   "source": [
    "df = PreprocessingHashtag('./data/dataset.csv')\n",
    "df"
   ]
  },
  {
   "cell_type": "code",
   "execution_count": 4,
   "metadata": {},
   "outputs": [],
   "source": [
    "hashtags_list = [l for l in df['hashtags'].values]"
   ]
  },
  {
   "cell_type": "code",
   "execution_count": 5,
   "metadata": {},
   "outputs": [],
   "source": [
    "from konlpy.tag import Mecab\n",
    "\n",
    "tokenizer = Mecab()\n",
    "tokenized = []\n",
    "for hashtags in hashtags_list:\n",
    "    temp = tokenizer.morphs(' '.join(hashtags))\n",
    "    tokenized.append(temp)"
   ]
  },
  {
   "cell_type": "code",
   "execution_count": 6,
   "metadata": {},
   "outputs": [],
   "source": [
    "from gensim.models import Word2Vec\n",
    "\n",
    "model = Word2Vec(sentences = tokenized, \n",
    "                 size = 100, \n",
    "                 window = 10, \n",
    "                 min_count = 5, \n",
    "                 workers = 4, \n",
    "                 sg = 1)"
   ]
  },
  {
   "cell_type": "code",
   "execution_count": 7,
   "metadata": {},
   "outputs": [
    {
     "data": {
      "text/plain": [
       "(2685, 100)"
      ]
     },
     "execution_count": 7,
     "metadata": {},
     "output_type": "execute_result"
    }
   ],
   "source": [
    "model.wv.vectors.shape"
   ]
  },
  {
   "cell_type": "code",
   "execution_count": 8,
   "metadata": {},
   "outputs": [
    {
     "data": {
      "text/plain": [
       "[('역삼', 0.9733798503875732),\n",
       " ('압구정', 0.952819287776947),\n",
       " ('힙합', 0.9523053765296936),\n",
       " ('삼덕동', 0.9517554640769958),\n",
       " ('남포', 0.9489603042602539),\n",
       " ('가로수길', 0.9309589266777039),\n",
       " ('불로동', 0.9280554056167603),\n",
       " ('건대', 0.9248971343040466),\n",
       " ('마린', 0.9218472838401794),\n",
       " ('신사', 0.9172803163528442)]"
      ]
     },
     "execution_count": 8,
     "metadata": {},
     "output_type": "execute_result"
    }
   ],
   "source": [
    "model.wv.most_similar('신촌')"
   ]
  },
  {
   "cell_type": "code",
   "execution_count": 9,
   "metadata": {},
   "outputs": [],
   "source": [
    "def NTokenConversion(model, t_list, alpha, n):\n",
    "\n",
    "    res = []\n",
    "    for t in t_list:\n",
    "        similar_tokens = model.wv.most_similar(t[0])\n",
    "        for i in range(len(similar_tokens)):\n",
    "            if (alpha**n)*(similar_tokens[i][1])>=0.7:\n",
    "                res.append(similar_tokens[i])\n",
    "\n",
    "    return res"
   ]
  },
  {
   "cell_type": "code",
   "execution_count": 10,
   "metadata": {},
   "outputs": [],
   "source": [
    "def TokenConversion(model, common_tokens, alpha):\n",
    "    \n",
    "    # 토큰 전환\n",
    "    ls1 = NTokenConversion(model, common_tokens, alpha, n=0)\n",
    "    ls2 = NTokenConversion(model, ls1, alpha, n=1)\n",
    "    ls3 = NTokenConversion(model, ls2, alpha, n=2)\n",
    "    ls4 = NTokenConversion(model, ls3, alpha, n=3)\n",
    "    ls5 = NTokenConversion(model, ls4, alpha, n=4)\n",
    "    ls = ls1 + ls2 + ls3 + ls4 + ls5\n",
    "\n",
    "    # 중복 토큰 제거\n",
    "    temp = []\n",
    "    result = []\n",
    "    for i in range(len(ls)):\n",
    "        if ls[i][0] not in temp:\n",
    "            temp.append(ls[i][0])\n",
    "            result.append(ls[i])\n",
    "\n",
    "    return result"
   ]
  },
  {
   "cell_type": "code",
   "execution_count": 11,
   "metadata": {},
   "outputs": [
    {
     "data": {
      "text/plain": [
       "[('역삼', 0.9733798503875732),\n",
       " ('압구정', 0.952819287776947),\n",
       " ('힙합', 0.9523053765296936),\n",
       " ('삼덕동', 0.9517554640769958),\n",
       " ('남포', 0.9489603042602539),\n",
       " ('가로수길', 0.9309589266777039),\n",
       " ('불로동', 0.9280554056167603),\n",
       " ('건대', 0.9248971343040466),\n",
       " ('마린', 0.9218472838401794),\n",
       " ('신사', 0.9172803163528442),\n",
       " ('신촌', 0.9309588670730591),\n",
       " ('동성로', 0.9150162935256958),\n",
       " ('한남동', 0.9066246151924133),\n",
       " ('신사동', 0.9047465324401855),\n",
       " ('논현', 0.8896282911300659),\n",
       " ('미용인', 0.8854705691337585),\n",
       " ('이태원', 0.9145087599754333),\n",
       " ('강남', 0.881061315536499),\n",
       " ('연남', 0.836570143699646),\n",
       " ('합정', 0.8206409215927124)]"
      ]
     },
     "execution_count": 11,
     "metadata": {},
     "output_type": "execute_result"
    }
   ],
   "source": [
    "# 토큰 전환\n",
    "common_tokens = [('신촌', 0.91353440284729), ('가로수길', 0.9186334013938904), ('홍대', 0.7084668278694153)]\n",
    "tokens_converted = TokenConversion(model, common_tokens, alpha=0.7)\n",
    "tokens_converted"
   ]
  }
 ],
 "metadata": {
  "kernelspec": {
   "display_name": "Python 3",
   "language": "python",
   "name": "python3"
  },
  "language_info": {
   "codemirror_mode": {
    "name": "ipython",
    "version": 3
   },
   "file_extension": ".py",
   "mimetype": "text/x-python",
   "name": "python",
   "nbconvert_exporter": "python",
   "pygments_lexer": "ipython3",
   "version": "3.7.1"
  }
 },
 "nbformat": 4,
 "nbformat_minor": 4
}
